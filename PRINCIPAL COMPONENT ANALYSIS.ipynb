{
 "cells": [
  {
   "cell_type": "code",
   "execution_count": 3,
   "id": "39a3b07f",
   "metadata": {},
   "outputs": [
    {
     "name": "stdout",
     "output_type": "stream",
     "text": [
      "[-1.2344268  0.         1.5430335 -0.3086067]\n",
      "[ 0.60192927 -1.08347268 -0.84270097  1.32424438]\n"
     ]
    }
   ],
   "source": [
    "import numpy as np\n",
    "y=np.array([11,4,5,14])\n",
    "x=np.array([4,8,13,7])\n",
    "X=(x-x.mean())/(x.std())\n",
    "Y=(y-y.mean())/(y.std())\n",
    "print(X)\n",
    "print(Y)da"
   ]
  },
  {
   "cell_type": "code",
   "execution_count": 4,
   "id": "808c83de",
   "metadata": {},
   "outputs": [
    {
     "name": "stdout",
     "output_type": "stream",
     "text": [
      "[[-1.2344268   0.60192927]\n",
      " [ 0.         -1.08347268]\n",
      " [ 1.5430335  -0.84270097]\n",
      " [-0.3086067   1.32424438]]\n"
     ]
    }
   ],
   "source": [
    "std_data=np.column_stack((X,Y))\n",
    "print(std_data)"
   ]
  },
  {
   "cell_type": "code",
   "execution_count": 5,
   "id": "b934b65a",
   "metadata": {},
   "outputs": [
    {
     "name": "stdout",
     "output_type": "stream",
     "text": [
      "covariance matrix:  [[ 1.33333333 -0.81734138]\n",
      " [-0.81734138  1.33333333]]\n"
     ]
    }
   ],
   "source": [
    "c=np.cov(X,Y)\n",
    "print(\"covariance matrix: \",c)"
   ]
  },
  {
   "cell_type": "code",
   "execution_count": 6,
   "id": "8d8a9fc8",
   "metadata": {},
   "outputs": [
    {
     "name": "stdout",
     "output_type": "stream",
     "text": [
      "Eigen Values:  [2.15067471 0.51599195]\n",
      "Eigen values:  [[ 0.70710678  0.70710678]\n",
      " [-0.70710678  0.70710678]]\n"
     ]
    }
   ],
   "source": [
    "values,vectors=np.linalg.eig(c)\n",
    "print(\"Eigen Values: \",values)\n",
    "print(\"Eigen values: \",vectors)"
   ]
  },
  {
   "cell_type": "code",
   "execution_count": 9,
   "id": "92022ea7",
   "metadata": {},
   "outputs": [
    {
     "data": {
      "text/plain": [
       "array([-0.4472433 , -0.76613088,  0.49520988,  0.71816429])"
      ]
     },
     "execution_count": 9,
     "metadata": {},
     "output_type": "execute_result"
    }
   ],
   "source": [
    "idx=np.argsort(values)[::-1]\n",
    "values=values[idx]#sorting values\n",
    "vectors=vectors[:,idx]\n",
    "num_components=1\n",
    "projection_matrix=vectors[:,num_components]\n",
    "data_reduced=np.dot(std_data,projection_matrix)\n",
    "data_reduced"
   ]
  },
  {
   "cell_type": "code",
   "execution_count": null,
   "id": "f22a6d77",
   "metadata": {},
   "outputs": [],
   "source": []
  }
 ],
 "metadata": {
  "kernelspec": {
   "display_name": "Python 3 (ipykernel)",
   "language": "python",
   "name": "python3"
  },
  "language_info": {
   "codemirror_mode": {
    "name": "ipython",
    "version": 3
   },
   "file_extension": ".py",
   "mimetype": "text/x-python",
   "name": "python",
   "nbconvert_exporter": "python",
   "pygments_lexer": "ipython3",
   "version": "3.11.7"
  }
 },
 "nbformat": 4,
 "nbformat_minor": 5
}
