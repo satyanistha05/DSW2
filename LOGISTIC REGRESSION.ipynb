{
 "cells": [
  {
   "cell_type": "code",
   "execution_count": 1,
   "id": "43546440-ab59-4635-b1e9-4451c77dc34a",
   "metadata": {},
   "outputs": [
    {
     "data": {
      "text/plain": [
       "0.7310585786300049"
      ]
     },
     "execution_count": 1,
     "metadata": {},
     "output_type": "execute_result"
    }
   ],
   "source": [
    "import numpy as np\n",
    "def sigmoid(z):\n",
    "    g=1.0/(1.0+np.exp(-z))\n",
    "    return g\n",
    "sigmoid(1)"
   ]
  },
  {
   "cell_type": "code",
   "execution_count": 2,
   "id": "88fb1110-7a3e-4ac3-b9f4-3ac625d52d8e",
   "metadata": {},
   "outputs": [
    {
     "data": {
      "text/plain": [
       "[<matplotlib.lines.Line2D at 0x1d9efd30610>]"
      ]
     },
     "execution_count": 2,
     "metadata": {},
     "output_type": "execute_result"
    },
    {
     "data": {
      "image/png": "[encoded data removed]",
      "text/plain": [
       "<Figure size 640x480 with 1 Axes>"
      ]
     },
     "metadata": {},
     "output_type": "display_data"
    }
   ],
   "source": [
    "import matplotlib.pyplot as plt\n",
    "x=np.arange(-10,11)\n",
    "y=sigmoid(x)\n",
    "plt.plot(x,y)"
   ]
  },
  {
   "cell_type": "code",
   "execution_count": 3,
   "id": "df88a5c0-c3da-4c2b-8863-f0fdee150461",
   "metadata": {},
   "outputs": [
    {
     "name": "stdout",
     "output_type": "stream",
     "text": [
      "[ 1.   2.  -0.8  2.5  3.   2.5]\n"
     ]
    },
    {
     "data": {
      "text/plain": [
       "array([0.73105858, 0.88079708, 0.31002552, 0.92414182, 0.95257413,\n",
       "       0.92414182])"
      ]
     },
     "execution_count": 3,
     "metadata": {},
     "output_type": "execute_result"
    }
   ],
   "source": [
    "def predict_logistic(x,w,b):\n",
    "    return sigmoid(x@w+b)\n",
    "def predict_linear(x,w,b):\n",
    "    return x@w+b\n",
    "x=np.array([[0.5,1.5],[1,2],[0.1,0.1],[3,0.5],[2,2],[1,2.5]])\n",
    "w=np.array([1,1])\n",
    "b=np.array([-1])\n",
    "print(x@w+b)\n",
    "predict_logistic(x,w,b)\n",
    "    "
   ]
  },
  {
   "cell_type": "code",
   "execution_count": 4,
   "id": "dc19a793-36e9-401b-a943-a87acd0ce508",
   "metadata": {},
   "outputs": [
    {
     "data": {
      "text/plain": [
       "array([0.66960953])"
      ]
     },
     "execution_count": 4,
     "metadata": {},
     "output_type": "execute_result"
    }
   ],
   "source": [
    "def compute_cost_logistic(x,y,w,b,):\n",
    "    m = x. shape[0]\n",
    "    cost = 0.0\n",
    "    for i in range(m):\n",
    "        z_i=np.dot(x[i],w)+b\n",
    "        f_wb_i = sigmoid(z_i)\n",
    "        cost += -y[i]*np. log(f_wb_i) - (1-y[i])*np.log(1-f_wb_i)\n",
    "    cost = cost / m\n",
    "    return cost\n",
    "y =np.array([0,0,0,1,1,1])\n",
    "compute_cost_logistic(x,y, w, b)"
   ]
  },
  {
   "cell_type": "code",
   "execution_count": 5,
   "id": "c2136039-1595-4f52-9898-1df349bafb19",
   "metadata": {},
   "outputs": [
    {
     "name": "stderr",
     "output_type": "stream",
     "text": [
      "C:\\Users\\HP\\AppData\\Local\\Temp\\ipykernel_3444\\140075772.py:9: DeprecationWarning: Conversion of an array with ndim > 0 to a scalar is deprecated, and will error in future. Ensure you extract a single element from your array before performing this operation. (Deprecated NumPy 1.25.)\n",
      "  dj_dw[j]=dj_dw[j]+err_i*x[i,j]\n"
     ]
    },
    {
     "data": {
      "text/plain": [
       "(array([0.28712316]), array([0.14650741, 0.42779305]))"
      ]
     },
     "execution_count": 5,
     "metadata": {},
     "output_type": "execute_result"
    }
   ],
   "source": [
    "def compute_gradient_logistic(x,y,w,b):\n",
    "    m,n=x.shape\n",
    "    dj_dw=np.zeros((n,))\n",
    "    dj_db=0.\n",
    "    for i in range (m):\n",
    "        f_wb_i=sigmoid(np.dot(x[i],w)+b)\n",
    "        err_i=f_wb_i-y[i]\n",
    "        for j in range(n):\n",
    "            dj_dw[j]=dj_dw[j]+err_i*x[i,j]\n",
    "        dj_db=dj_db+err_i\n",
    "    dj_dw=dj_dw/m\n",
    "    dj_db=dj_db/m\n",
    "\n",
    "    return dj_db,dj_dw\n",
    "compute_gradient_logistic(x,y,w,b)"
   ]
  },
  {
   "cell_type": "code",
   "execution_count": null,
   "id": "1268b94c-5f9e-4222-9fed-f179ee6d8787",
   "metadata": {},
   "outputs": [],
   "source": []
  },
  {
   "cell_type": "code",
   "execution_count": null,
   "id": "1e2f710c-d6e3-477f-b41a-cf95b52142a3",
   "metadata": {},
   "outputs": [],
   "source": []
  }
 ],
 "metadata": {
  "kernelspec": {
   "display_name": "Python 3 (ipykernel)",
   "language": "python",
   "name": "python3"
  },
  "language_info": {
   "codemirror_mode": {
    "name": "ipython",
    "version": 3
   },
   "file_extension": ".py",
   "mimetype": "text/x-python",
   "name": "python",
   "nbconvert_exporter": "python",
   "pygments_lexer": "ipython3",
   "version": "3.11.7"
  }
 },
 "nbformat": 4,
 "nbformat_minor": 5
}
