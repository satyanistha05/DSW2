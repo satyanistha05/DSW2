{
 "cells": [
  {
   "cell_type": "code",
   "execution_count": 33,
   "metadata": {},
   "outputs": [
    {
     "data": {
      "text/plain": [
       "3.0"
      ]
     },
     "execution_count": 33,
     "metadata": {},
     "output_type": "execute_result"
    }
   ],
   "source": [
    "#mean:\n",
    "x=[1,2,3,4,5]\n",
    "def mean(x):\n",
    "    m=0\n",
    "    for i in x:\n",
    "        m+=i\n",
    "    mean=m/len(x)\n",
    "    return mean\n",
    "mean(x)"
   ]
  },
  {
   "cell_type": "code",
   "execution_count": 39,
   "metadata": {},
   "outputs": [
    {
     "data": {
      "text/plain": [
       "0.6666666666666666"
      ]
     },
     "execution_count": 39,
     "metadata": {},
     "output_type": "execute_result"
    }
   ],
   "source": [
    "#variance:\n",
    "def variance(x):\n",
    "    s=0\n",
    "    v=0\n",
    "    for i in x:\n",
    "        m1=(i-mean(x))**2\n",
    "        v=v+m1\n",
    "    var=v/len(x)\n",
    "    return var    \n",
    "variance(x)"
   ]
  },
  {
   "cell_type": "code",
   "execution_count": 40,
   "metadata": {},
   "outputs": [
    {
     "data": {
      "text/plain": [
       "1.3333333333333333"
      ]
     },
     "execution_count": 40,
     "metadata": {},
     "output_type": "execute_result"
    }
   ],
   "source": [
    "#covariance\n",
    "x=[1,2,3]\n",
    "y=[8,14,12]\n",
    "def covariance(x,y):\n",
    "    xm=mean(x)\n",
    "    ym=mean(y)\n",
    "    s=0\n",
    "    for i in range(len(x)):\n",
    "        s=s+(x[i]-xm)*(y[i]-ym)\n",
    "    covarr=s/len(x)\n",
    "    return covarr\n",
    "cov=covariance(x,y)\n",
    "cov"
   ]
  },
  {
   "cell_type": "code",
   "execution_count": 42,
   "metadata": {},
   "outputs": [
    {
     "data": {
      "text/plain": [
       "0.6546536707079772"
      ]
     },
     "execution_count": 42,
     "metadata": {},
     "output_type": "execute_result"
    }
   ],
   "source": [
    "#corelation\n",
    "import math as m\n",
    "def corelation(x,y):\n",
    "    xsd=m.sqrt(variance(x))\n",
    "    ysd=m.sqrt(variance(y))\n",
    "    cor=cov/(xsd*ysd)\n",
    "    return cor\n",
    "corr=corelation(x,y)\n",
    "corr"
   ]
  },
  {
   "cell_type": "code",
   "execution_count": 45,
   "metadata": {},
   "outputs": [
    {
     "data": {
      "text/plain": [
       "2.0"
      ]
     },
     "execution_count": 45,
     "metadata": {},
     "output_type": "execute_result"
    }
   ],
   "source": [
    "def slope(x,y):\n",
    "    return covariance(x,y)/variance(x)\n",
    "slope(x,y)"
   ]
  },
  {
   "cell_type": "code",
   "execution_count": 46,
   "metadata": {},
   "outputs": [
    {
     "data": {
      "text/plain": [
       "7.333333333333334"
      ]
     },
     "execution_count": 46,
     "metadata": {},
     "output_type": "execute_result"
    }
   ],
   "source": [
    "def intercept(x,y):\n",
    "    return mean(y)-slope(x,y)*mean(x)\n",
    "intercept(x,y)"
   ]
  },
  {
   "cell_type": "code",
   "execution_count": 47,
   "metadata": {},
   "outputs": [
    {
     "data": {
      "text/plain": [
       "<matplotlib.collections.PathCollection at 0x7fa226ffb978>"
      ]
     },
     "execution_count": 47,
     "metadata": {},
     "output_type": "execute_result"
    },
    {
     "data": {
      "image/png": "[encoded data removed]",
      "text/plain": [
       "<Figure size 432x288 with 1 Axes>"
      ]
     },
     "metadata": {
      "needs_background": "light"
     },
     "output_type": "display_data"
    }
   ],
   "source": [
    "import matplotlib.pyplot as plt\n",
    "y_hat=[slope(x,y)*i+intercept(x,y) for i in x]\n",
    "plt.plot(x,y_hat)\n",
    "plt.scatter(x,y)"
   ]
  },
  {
   "cell_type": "code",
   "execution_count": null,
   "metadata": {},
   "outputs": [],
   "source": [
    "    "
   ]
  }
 ],
 "metadata": {
  "kernelspec": {
   "display_name": "Python 3 (ipykernel)",
   "language": "python",
   "name": "python3"
  },
  "language_info": {
   "codemirror_mode": {
    "name": "ipython",
    "version": 3
   },
   "file_extension": ".py",
   "mimetype": "text/x-python",
   "name": "python",
   "nbconvert_exporter": "python",
   "pygments_lexer": "ipython3",
   "version": "3.11.5"
  }
 },
 "nbformat": 4,
 "nbformat_minor": 2
}
