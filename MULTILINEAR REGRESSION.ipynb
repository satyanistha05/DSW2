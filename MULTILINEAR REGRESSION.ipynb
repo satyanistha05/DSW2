{
 "cells": [
  {
   "cell_type": "code",
   "execution_count": 3,
   "metadata": {},
   "outputs": [],
   "source": [
    "import matplotlib.pyplot as plt\n",
    "import numpy as np\n",
    "import pandas as pd"
   ]
  },
  {
   "cell_type": "code",
   "execution_count": 36,
   "metadata": {},
   "outputs": [
    {
     "data": {
      "text/plain": [
       "([array([8.97163825])],\n",
       " [array([16.06641173]),\n",
       "  array([15.22453924]),\n",
       "  array([14.4361326]),\n",
       "  array([13.69779628]),\n",
       "  array([13.00635042]),\n",
       "  array([12.35881708]),\n",
       "  array([11.75240745]),\n",
       "  array([11.18450984]),\n",
       "  array([10.65267841]),\n",
       "  array([10.15462267]),\n",
       "  array([9.68819758]),\n",
       "  array([9.25139433]),\n",
       "  array([8.8423317]),\n",
       "  array([8.45924791]),\n",
       "  array([8.10049311]),\n",
       "  array([7.76452221]),\n",
       "  array([7.44988822]),\n",
       "  array([7.1552361]),\n",
       "  array([6.87929681]),\n",
       "  array([6.62088195]),\n",
       "  array([6.37887856]),\n",
       "  array([6.15224439]),\n",
       "  array([5.94000335]),\n",
       "  array([5.74124138]),\n",
       "  array([5.55510243]),\n",
       "  array([5.38078484]),\n",
       "  array([5.21753786]),\n",
       "  array([5.0646584]),\n",
       "  array([4.92148806]),\n",
       "  array([4.78741021]),\n",
       "  array([4.66184741]),\n",
       "  array([4.54425889]),\n",
       "  array([4.43413821]),\n",
       "  array([4.3310111]),\n",
       "  array([4.23443342]),\n",
       "  array([4.14398921]),\n",
       "  array([4.05928896]),\n",
       "  array([3.97996787]),\n",
       "  array([3.90568433]),\n",
       "  array([3.8361184]),\n",
       "  array([3.77097049]),\n",
       "  array([3.70996]),\n",
       "  array([3.65282419]),\n",
       "  array([3.59931697]),\n",
       "  array([3.5492079]),\n",
       "  array([3.50228117]),\n",
       "  array([3.45833468]),\n",
       "  array([3.41717915]),\n",
       "  array([3.37863733]),\n",
       "  array([3.34254324]),\n",
       "  array([3.30874142]),\n",
       "  array([3.2770863]),\n",
       "  array([3.24744154]),\n",
       "  array([3.21967946]),\n",
       "  array([3.19368051]),\n",
       "  array([3.1693327]),\n",
       "  array([3.14653119]),\n",
       "  array([3.12517775]),\n",
       "  array([3.10518044]),\n",
       "  array([3.08645312]),\n",
       "  array([3.06891514]),\n",
       "  array([3.05249096]),\n",
       "  array([3.03710986]),\n",
       "  array([3.02270558]),\n",
       "  array([3.00921609]),\n",
       "  array([2.9965833]),\n",
       "  array([2.9847528]),\n",
       "  array([2.97367362]),\n",
       "  array([2.96329807]),\n",
       "  array([2.95358145]),\n",
       "  array([2.94448192]),\n",
       "  array([2.93596028]),\n",
       "  array([2.92797984]),\n",
       "  array([2.92050622]),\n",
       "  array([2.91350723]),\n",
       "  array([2.90695274]),\n",
       "  array([2.90081452]),\n",
       "  array([2.89506612]),\n",
       "  array([2.88968279]),\n",
       "  array([2.88464135]),\n",
       "  array([2.87992008]),\n",
       "  array([2.87549866]),\n",
       "  array([2.87135802]),\n",
       "  array([2.86748036]),\n",
       "  array([2.86384895]),\n",
       "  array([2.86044817]),\n",
       "  array([2.85726337]),\n",
       "  array([2.85428083]),\n",
       "  array([2.85148771]),\n",
       "  array([2.84887197]),\n",
       "  array([2.84642235]),\n",
       "  array([2.84412831]),\n",
       "  array([2.84197995]),\n",
       "  array([2.83996803]),\n",
       "  array([2.83808389]),\n",
       "  array([2.83631941]),\n",
       "  array([2.83466698]),\n",
       "  array([2.8331195]),\n",
       "  array([2.83167029]),\n",
       "  array([2.83031312]),\n",
       "  array([2.82904215]),\n",
       "  array([2.82785189]),\n",
       "  array([2.82673722]),\n",
       "  array([2.82569334]),\n",
       "  array([2.82471576]),\n",
       "  array([2.82380026]),\n",
       "  array([2.8229429]),\n",
       "  array([2.82214]),\n",
       "  array([2.82138808]),\n",
       "  array([2.82068392]),\n",
       "  array([2.82002447]),\n",
       "  array([2.81940691]),\n",
       "  array([2.81882857]),\n",
       "  array([2.81828695]),\n",
       "  array([2.81777974]),\n",
       "  array([2.81730473]),\n",
       "  array([2.8168599]),\n",
       "  array([2.81644331]),\n",
       "  array([2.81605318]),\n",
       "  array([2.81568783]),\n",
       "  array([2.81534568]),\n",
       "  array([2.81502526]),\n",
       "  array([2.81472519]),\n",
       "  array([2.81444417]),\n",
       "  array([2.814181]),\n",
       "  array([2.81393455]),\n",
       "  array([2.81370375]),\n",
       "  array([2.8134876]),\n",
       "  array([2.81328518]),\n",
       "  array([2.81309562]),\n",
       "  array([2.8129181]),\n",
       "  array([2.81275185]),\n",
       "  array([2.81259616]),\n",
       "  array([2.81245035]),\n",
       "  array([2.81231381]),\n",
       "  array([2.81218594]),\n",
       "  array([2.81206619]),\n",
       "  array([2.81195404]),\n",
       "  array([2.81184902]),\n",
       "  array([2.81175066])])"
      ]
     },
     "execution_count": 36,
     "metadata": {},
     "output_type": "execute_result"
    }
   ],
   "source": [
    "def predictions(X,theta):\n",
    "    prediction=np.dot(X,theta)\n",
    "    return prediction\n",
    "def error(prediction,actual):\n",
    "    e=0\n",
    "    for i in range(len(prediction)):\n",
    "        e= e+ ((prediction[i]-actual[i])**2)\n",
    "    return e/(2*len(prediction))\n",
    "def gradient(X,prediction,actual):\n",
    "    length,variable=X.shape\n",
    "    temp=[]\n",
    "    for j in range(variable):\n",
    "        theta_j=0\n",
    "        for i in range(length):\n",
    "            theta_j+=(prediction[i]-actual[i])*X[i][j]\n",
    "        temp.append(theta_j/length)\n",
    "    return temp\n",
    "def add_bias_variable(X):\n",
    "    n-X.shape[0]\n",
    "    X_b=np.concatenate((np.ones((n,1)),X),axis=1)\n",
    "    return X_b\n",
    "def gradient_desc(X,y):\n",
    "    m=len(y)\n",
    "    n=X.shape[1]\n",
    "    theta=np.zeros((n,1))\n",
    "    learning_rate=0.1\n",
    "    pred=predictions(X,theta)\n",
    "    e=0\n",
    "    previous_e=0\n",
    "    error_diff=1\n",
    "    error_at_each_step=[]\n",
    "    while error_diff>0.0001:\n",
    "        pred=predictions(X,theta)\n",
    "        previous_e=e\n",
    "        e=error(pred,y)\n",
    "        error_at_each_step.append(e)\n",
    "        grad=gradient(X,pred,y)\n",
    "        theta=[theta[i]-learning_rate*grad[i]for i in range(n)]\n",
    "        error_diff=abs(e-previous_e)\n",
    "    return theta,error_at_each_step\n",
    "np.random.seed(1)\n",
    "X=np.random.rand(100,1)\n",
    "y=4+3*X+np.random.randn(100,1)\n",
    "gradient_desc(X,y)\n"
   ]
  },
  {
   "cell_type": "code",
   "execution_count": 17,
   "metadata": {},
   "outputs": [
    {
     "name": "stdout",
     "output_type": "stream",
     "text": [
      "[0 0 0]\n",
      "[0.93333333 1.41333333 1.89333333]\n",
      "[1.7472     2.64426667 3.54133333]\n",
      "[2.45703111 3.71636622 4.97570133]\n",
      "[3.07626401 4.65015334 6.22404267]\n",
      "[3.61659989 5.46349789 7.31039589]\n",
      "[4.08822808 6.17196086 8.25569364]\n",
      "[4.50002144 6.78909269 9.07816393]\n",
      "[4.85970641 7.326693   9.79367958]\n",
      "[ 5.17401115  7.79503686 10.41606257]\n",
      "[ 5.44879453  8.20307175 10.95734898]\n",
      "[ 5.68915842  8.55858908 11.42801974]\n",
      "[ 5.89954555  8.86837358 11.8372016 ]\n",
      "[ 6.08382463  9.13833333 12.19284204]\n",
      "[ 6.24536451  9.3736131  12.50186169]\n",
      "[ 6.38709882  9.5786929  12.77028698]\n",
      "[ 6.51158213  9.75747391 13.00336569]\n",
      "[ 6.62103899  9.91335326 13.20566753]\n",
      "[ 6.71740654 10.04928915 13.38117177]\n",
      "[ 6.80237164 10.16785759 13.53334353]\n",
      "[ 6.87740322 10.27130172 13.66520021]\n",
      "[ 6.94378044 10.36157488 13.77936933]\n",
      "[ 7.00261719 10.44037805 13.87813891]\n",
      "[ 7.05488347 10.50919239 13.96350132]\n",
      "[ 7.10142396 10.56930773 14.03719151]\n",
      "[ 7.14297422 10.62184724 14.10072026]\n",
      "[ 7.1801748  10.66778896 14.15540311]\n",
      "[ 7.2135835  10.70798457 14.20238564]\n",
      "[ 7.24368605 10.74317573 14.2426654 ]\n",
      "[ 7.27090546 10.77400825 14.27711103]\n",
      "[ 7.2956101  10.80104452 14.30647894]\n",
      "[ 7.31812074 10.82477426 14.33142777]\n",
      "[ 7.33871676 10.84562392 14.35253108]\n",
      "[ 7.35764141 10.86396486 14.3702883 ]\n",
      "[ 7.37510658 10.88012045 14.38513432]\n",
      "[ 7.39129676 10.89437229 14.39744783]\n",
      "[ 7.40637264 10.9069656  14.40755857]\n",
      "[ 7.42047415 10.91811392 14.41575369]\n",
      "[ 7.43372317 10.92800319 14.4222832 ]\n",
      "[ 7.44622585 10.93679534 14.42736483]\n",
      "[ 7.45807463 10.94463138 14.43118813]\n",
      "[ 7.46935003 10.9516341  14.43391817]\n",
      "[ 7.48012218 10.95791043 14.43569868]\n",
      "[ 7.49045217 10.96355349 14.43665482]\n",
      "[ 7.5003932  10.96864437 14.43689554]\n",
      "[ 7.50999164 10.97325368 14.43651573]\n",
      "[ 7.51928785 10.97744292 14.43559799]\n",
      "[ 7.52831702 10.98126563 14.43421425]\n",
      "[ 7.53710978 10.98476846 14.43242714]\n",
      "[ 7.54569286 10.98799201 14.43029117]\n",
      "[ 7.55408951 10.99097166 14.42785382]\n",
      "[ 7.56232001 10.99373821 14.4251564 ]\n",
      "[ 7.57040205 10.99631847 14.42223489]\n",
      "[ 7.57835102 10.99873581 14.41912061]\n",
      "[ 7.58618035 11.00101059 14.41584082]\n",
      "[ 7.59390177 11.00316051 14.41241925]\n",
      "[ 7.60152548 11.00520102 14.40887655]\n",
      "[ 7.60906039 11.00714555 14.4052307 ]\n",
      "[ 7.61651428 11.00900581 14.40149734]\n",
      "[ 7.62389393 11.01079201 14.39769009]\n",
      "[ 7.63120526 11.01251302 14.39382077]\n",
      "[ 7.63845345 11.01417658 14.38989972]\n",
      "[ 7.64564301 11.01578944 14.38593587]\n",
      "[ 7.6527779  11.01735747 14.38193704]\n",
      "[ 7.65986158 11.01888579 14.37790999]\n",
      "[ 7.66689706 11.02037885 14.37386063]\n",
      "[ 7.673887   11.02184054 14.36979408]\n",
      "[ 7.68083371 11.02327424 14.36571478]\n",
      "[ 7.68773923 11.02468292 14.36162662]\n",
      "[ 7.69460534 11.02606914 14.35753293]\n",
      "[ 7.70143363 11.02743514 14.35343665]\n",
      "[ 7.70822546 11.02878288 14.3493403 ]\n",
      "[ 7.71498207 11.03011407 14.34524608]\n",
      "[ 7.72170451 11.0314302  14.34115588]\n",
      "[ 7.72839376 11.03273256 14.33707135]\n",
      "[ 7.73505063 11.03402228 14.33299393]\n",
      "[ 7.7416759  11.03530036 14.32892483]\n",
      "[ 7.74827021 11.03656767 14.32486513]\n",
      "[ 7.75483416 11.03782495 14.32081573]\n",
      "[ 7.76136829 11.03907287 14.31677744]\n",
      "[ 7.76787306 11.040312   14.31275094]\n",
      "[ 7.77434892 11.04154286 14.30873679]\n",
      "[ 7.78079624 11.04276587 14.30473551]\n",
      "[ 7.78721537 11.04398145 14.30074752]\n",
      "[ 7.79360664 11.04518991 14.29677318]\n",
      "[ 7.79997034 11.04639157 14.2928128 ]\n",
      "[ 7.80630673 11.04758668 14.28886663]\n",
      "[ 7.81261606 11.04877548 14.2849349 ]\n",
      "[ 7.81889857 11.04995817 14.28101778]\n",
      "[ 7.82515445 11.05113493 14.27711542]\n",
      "[ 7.83138392 11.05230593 14.27322794]\n",
      "[ 7.83758715 11.0534713  14.26935545]\n",
      "[ 7.84376432 11.05463116 14.26549801]\n",
      "[ 7.84991561 11.05578564 14.26165568]\n",
      "[ 7.85604115 11.05693483 14.25782851]\n",
      "[ 7.86214112 11.05807882 14.25401652]\n",
      "[ 7.86821564 11.05921769 14.25021974]\n",
      "[ 7.87426487 11.06035151 14.24643816]\n",
      "[ 7.88028893 11.06148035 14.24267178]\n",
      "[ 7.88628794 11.06260427 14.2389206 ]\n"
     ]
    },
    {
     "data": {
      "text/plain": [
       "(2.3604003892276353, 3.1714612732096135, 2.3604003892276353)"
      ]
     },
     "execution_count": 17,
     "metadata": {},
     "output_type": "execute_result"
    }
   ],
   "source": [
    "import matplotlib.pyplot as plt\n",
    "import numpy as np\n",
    "def gradient_descent(x1,x2,y):\n",
    "    m1=0\n",
    "    m2=0\n",
    "    c=0\n",
    "    iteration=100\n",
    "    learning_rate=0.01\n",
    "    n=len(x1)\n",
    "    for i in range(iteration):\n",
    "        y_predicted=m1*x1+m2*x2+c\n",
    "        print(y_predicted)\n",
    "        cost=(1/n)*sum([value**2 for value in(y-y_predicted)])\n",
    "        md1=-(2/n)*sum(x1*(y-y_predicted))\n",
    "        md2=-(2/n)*sum(x2*(y-y_predicted))\n",
    "        cd=-(2/n)*sum(y-y_predicted)\n",
    "        m1=m1-learning_rate*md1\n",
    "        m2=m2-learning_rate*md2\n",
    "        c=c-learning_rate*cd\n",
    "    return(m1,m2,c)\n",
    "x1=np.array([1,1,1])\n",
    "x2=np.array([1,2,3])\n",
    "y=np.array([8,14,12])\n",
    "gradient_descent(x1,x2,y)"
   ]
  },
  {
   "cell_type": "code",
   "execution_count": 29,
   "metadata": {
    "scrolled": true
   },
   "outputs": [],
   "source": [
    "import numpy as np\n",
    "import matplotlib.pyplot as plt"
   ]
  },
  {
   "cell_type": "code",
   "execution_count": 30,
   "metadata": {},
   "outputs": [
    {
     "data": {
      "text/plain": [
       "6"
      ]
     },
     "execution_count": 30,
     "metadata": {},
     "output_type": "execute_result"
    }
   ],
   "source": [
    "def predict(x,m):\n",
    "    return np.dot(x,m)\n",
    "x=np.array([1,2,3])\n",
    "m=np.array([1,1,1])\n",
    "predict(x,m)"
   ]
  },
  {
   "cell_type": "code",
   "execution_count": 31,
   "metadata": {},
   "outputs": [
    {
     "data": {
      "text/plain": [
       "array([ 6, 10])"
      ]
     },
     "execution_count": 31,
     "metadata": {},
     "output_type": "execute_result"
    }
   ],
   "source": [
    "x=np.array([[1,2,3],[1,4,5]])\n",
    "y=np.array([2,5])\n",
    "m=np.array([1,1,1])\n",
    "predict(x,m)"
   ]
  },
  {
   "cell_type": "code",
   "execution_count": 32,
   "metadata": {},
   "outputs": [
    {
     "data": {
      "text/plain": [
       "array([-4, -5])"
      ]
     },
     "execution_count": 32,
     "metadata": {},
     "output_type": "execute_result"
    }
   ],
   "source": [
    "def error(x,y,m):\n",
    "    return (y-predict(x,m))\n",
    "error(x,y,m)"
   ]
  },
  {
   "cell_type": "code",
   "execution_count": 33,
   "metadata": {},
   "outputs": [
    {
     "data": {
      "text/plain": [
       "10.25"
      ]
     },
     "execution_count": 33,
     "metadata": {},
     "output_type": "execute_result"
    }
   ],
   "source": [
    "def cost_function(x,y,m):\n",
    "    er=0\n",
    "    for i in range(len(x)):\n",
    "        er+=error(x[i],y[i],m)**2\n",
    "    return er/(2*len(x))\n",
    "cost_function(x,y,m)"
   ]
  },
  {
   "cell_type": "code",
   "execution_count": 34,
   "metadata": {},
   "outputs": [
    {
     "data": {
      "text/plain": [
       "[-9, -28, -37]"
      ]
     },
     "execution_count": 34,
     "metadata": {},
     "output_type": "execute_result"
    }
   ],
   "source": [
    "def gradient_multi(x,y,m):\n",
    "    dJ_dm=[]\n",
    "    for j in range(len(x[0])):\n",
    "        dJ_dm_i=0\n",
    "        for i in range(len(x)):\n",
    "            dJ_dm_i+=(x[i][j]*error(x[i],y[i],m))\n",
    "        dJ_dm.append(dJ_dm_i)\n",
    "    return dJ_dm\n",
    "gradient_multi(x,y,m)\n",
    "    "
   ]
  },
  {
   "cell_type": "code",
   "execution_count": 35,
   "metadata": {},
   "outputs": [
    {
     "name": "stdout",
     "output_type": "stream",
     "text": [
      "After 7 number of iteration m:\n"
     ]
    },
    {
     "data": {
      "text/plain": [
       "array([[0.11064619],\n",
       "       [0.43888205],\n",
       "       [0.54952824]])"
      ]
     },
     "execution_count": 35,
     "metadata": {},
     "output_type": "execute_result"
    },
    {
     "data": {
      "image/png": "[encoded data removed]",
      "text/plain": [
       "<Figure size 432x288 with 1 Axes>"
      ]
     },
     "metadata": {
      "needs_background": "light"
     },
     "output_type": "display_data"
    }
   ],
   "source": [
    "def gradient_descent(x,y,m):\n",
    "    m=np.zeros((len(x[0]),1))\n",
    "    e=[] \n",
    "    it=[]\n",
    "    i=0\n",
    "    pc,cc=1,0\n",
    "    while abs(cc-pc)>0.001:\n",
    "        pc=cost_function(x,y,m)\n",
    "        m+=(np.array(gradient_multi(x,y,m))*0.01)\n",
    "        cc=cost_function(x,y,m)\n",
    "        e.append(cc)\n",
    "        i+=1\n",
    "        it.append(i)\n",
    "    print(\"After\",i,\"number of iteration\",\"m:\")\n",
    "    plt.plot(it,e)\n",
    "    return m\n",
    "gradient_descent(x,y,m)"
   ]
  },
  {
   "cell_type": "code",
   "execution_count": 3,
   "metadata": {},
   "outputs": [
    {
     "ename": "TypeError",
     "evalue": "object of type 'numpy.int32' has no len()",
     "output_type": "error",
     "traceback": [
      "\u001b[1;31m---------------------------------------------------------------------------\u001b[0m",
      "\u001b[1;31mTypeError\u001b[0m                                 Traceback (most recent call last)",
      "Cell \u001b[1;32mIn[3], line 3\u001b[0m\n\u001b[0;32m      1\u001b[0m \u001b[38;5;28;01mimport\u001b[39;00m \u001b[38;5;21;01mnumpy\u001b[39;00m \u001b[38;5;28;01mas\u001b[39;00m \u001b[38;5;21;01mnp\u001b[39;00m\n\u001b[0;32m      2\u001b[0m x\u001b[38;5;241m=\u001b[39mnp\u001b[38;5;241m.\u001b[39marray([\u001b[38;5;241m1\u001b[39m,\u001b[38;5;241m2\u001b[39m,\u001b[38;5;241m3\u001b[39m])\n\u001b[1;32m----> 3\u001b[0m m\u001b[38;5;241m=\u001b[39mnp\u001b[38;5;241m.\u001b[39mzeros((\u001b[38;5;28mlen\u001b[39m(x[\u001b[38;5;241m0\u001b[39m]),\u001b[38;5;241m1\u001b[39m))\n\u001b[0;32m      4\u001b[0m m\n",
      "\u001b[1;31mTypeError\u001b[0m: object of type 'numpy.int32' has no len()"
     ]
    }
   ],
   "source": [
    "import numpy as np\n",
    "x=np.array([1,2,3])\n",
    "m=np.zeros((len(x[0]),1))\n",
    "m"
   ]
  },
  {
   "cell_type": "code",
   "execution_count": null,
   "metadata": {},
   "outputs": [],
   "source": []
  }
 ],
 "metadata": {
  "kernelspec": {
   "display_name": "Python 3 (ipykernel)",
   "language": "python",
   "name": "python3"
  },
  "language_info": {
   "codemirror_mode": {
    "name": "ipython",
    "version": 3
   },
   "file_extension": ".py",
   "mimetype": "text/x-python",
   "name": "python",
   "nbconvert_exporter": "python",
   "pygments_lexer": "ipython3",
   "version": "3.11.7"
  }
 },
 "nbformat": 4,
 "nbformat_minor": 4
}
