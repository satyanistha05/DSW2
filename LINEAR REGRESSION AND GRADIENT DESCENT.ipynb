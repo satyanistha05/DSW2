{
 "cells": [
  {
   "cell_type": "code",
   "execution_count": 14,
   "metadata": {},
   "outputs": [
    {
     "data": {
      "text/plain": [
       "3.0"
      ]
     },
     "execution_count": 14,
     "metadata": {},
     "output_type": "execute_result"
    }
   ],
   "source": [
    "#mean:\n",
    "x=[1,2,3,4,5]\n",
    "def mean(x):\n",
    "    m=0\n",
    "    for i in x:\n",
    "        m+=i\n",
    "    mean=m/len(x)\n",
    "    return mean\n",
    "mean(x)"
   ]
  },
  {
   "cell_type": "code",
   "execution_count": 15,
   "metadata": {},
   "outputs": [
    {
     "data": {
      "text/plain": [
       "2.0"
      ]
     },
     "execution_count": 15,
     "metadata": {},
     "output_type": "execute_result"
    }
   ],
   "source": [
    "#variance:\n",
    "def variance(x):\n",
    "    v=0\n",
    "    for i in x:\n",
    "        m1=(i-mean(x))**2\n",
    "        v=v+m1\n",
    "    var=v/len(x)\n",
    "    return var    \n",
    "variance(x)"
   ]
  },
  {
   "cell_type": "code",
   "execution_count": 16,
   "metadata": {},
   "outputs": [
    {
     "data": {
      "text/plain": [
       "1.4142135623730951"
      ]
     },
     "execution_count": 16,
     "metadata": {},
     "output_type": "execute_result"
    }
   ],
   "source": [
    "import math as m\n",
    "def std_var(x):\n",
    "    std_variance=m.sqrt(variance(x))\n",
    "    return std_variance\n",
    "std_var(x)"
   ]
  },
  {
   "cell_type": "code",
   "execution_count": 6,
   "metadata": {},
   "outputs": [
    {
     "data": {
      "text/plain": [
       "1.3333333333333333"
      ]
     },
     "execution_count": 6,
     "metadata": {},
     "output_type": "execute_result"
    }
   ],
   "source": [
    "#covariance\n",
    "x=[1,2,3]\n",
    "y=[8,14,12]\n",
    "def covariance(x,y):\n",
    "    xm=mean(x)\n",
    "    ym=mean(y)\n",
    "    s=0\n",
    "    for i in range(len(x)):\n",
    "        s=s+(x[i]-xm)*(y[i]-ym)\n",
    "    covarr=s/len(x)\n",
    "    return covarr\n",
    "cov=covariance(x,y)\n",
    "cov"
   ]
  },
  {
   "cell_type": "code",
   "execution_count": 4,
   "metadata": {},
   "outputs": [
    {
     "data": {
      "text/plain": [
       "0.6546536707079772"
      ]
     },
     "execution_count": 4,
     "metadata": {},
     "output_type": "execute_result"
    }
   ],
   "source": [
    "#corelation\n",
    "import math as m\n",
    "def corelation(x,y):\n",
    "    xsd=m.sqrt(variance(x))\n",
    "    ysd=m.sqrt(variance(y))\n",
    "    cor=cov/(xsd*ysd)\n",
    "    return cor\n",
    "corr=corelation(x,y)\n",
    "corr"
   ]
  },
  {
   "cell_type": "code",
   "execution_count": 5,
   "metadata": {},
   "outputs": [
    {
     "data": {
      "text/plain": [
       "2.0"
      ]
     },
     "execution_count": 5,
     "metadata": {},
     "output_type": "execute_result"
    }
   ],
   "source": [
    "def slope(x,y):\n",
    "    return covariance(x,y)/variance(x)\n",
    "slope(x,y)"
   ]
  },
  {
   "cell_type": "code",
   "execution_count": 7,
   "metadata": {},
   "outputs": [
    {
     "data": {
      "text/plain": [
       "7.333333333333334"
      ]
     },
     "execution_count": 7,
     "metadata": {},
     "output_type": "execute_result"
    }
   ],
   "source": [
    "def intercept(x,y):\n",
    "    return mean(y)-slope(x,y)*mean(x)\n",
    "intercept(x,y)"
   ]
  },
  {
   "cell_type": "code",
   "execution_count": 8,
   "metadata": {},
   "outputs": [
    {
     "data": {
      "text/plain": [
       "<matplotlib.collections.PathCollection at 0x7f6220b0a470>"
      ]
     },
     "execution_count": 8,
     "metadata": {},
     "output_type": "execute_result"
    },
    {
     "data": {
      "image/png": "[encoded data removed]",
      "text/plain": [
       "<Figure size 432x288 with 1 Axes>"
      ]
     },
     "metadata": {
      "needs_background": "light"
     },
     "output_type": "display_data"
    }
   ],
   "source": [
    "import matplotlib.pyplot as plt\n",
    "y_hat=[slope(x,y)*i+intercept(x,y) for i in x]\n",
    "plt.plot(x,y_hat,color=\"green\")\n",
    "plt.scatter(x,y)"
   ]
  },
  {
   "cell_type": "code",
   "execution_count": 5,
   "metadata": {},
   "outputs": [
    {
     "name": "stdout",
     "output_type": "stream",
     "text": [
      "0.03458764513820541\n"
     ]
    }
   ],
   "source": [
    "def derivative(x):\n",
    "    return 2*x\n",
    "x=3\n",
    "learning_rate=0.1\n",
    "for i in range(20):\n",
    "    x=x-derivative(x)*learning_rate\n",
    "print(x)"
   ]
  },
  {
   "cell_type": "code",
   "execution_count": 40,
   "metadata": {},
   "outputs": [
    {
     "name": "stdout",
     "output_type": "stream",
     "text": [
      "0.32212254720000005 0.4294967296000001\n"
     ]
    }
   ],
   "source": [
    "def derivative(x1):\n",
    "    d1=2*x1\n",
    "    return d1\n",
    "x=3\n",
    "y=4\n",
    "learning_rate=0.1\n",
    "for i in range(10):\n",
    "    x=x-derivative(x)*learning_rate\n",
    "    y=y-derivative(y)*learning_rate\n",
    "print(x,y)"
   ]
  },
  {
   "cell_type": "code",
   "execution_count": 8,
   "metadata": {},
   "outputs": [
    {
     "name": "stdout",
     "output_type": "stream",
     "text": [
      "2.000000000068753 7.333333333177042 3.5555555555555536\n"
     ]
    }
   ],
   "source": [
    "import numpy as np\n",
    "def gradient_descent(x,y):\n",
    "    m=1\n",
    "    c=0\n",
    "    iteration=1000\n",
    "    learning_rate=0.1\n",
    "    n=len(x)\n",
    "    for i in range(iteration):\n",
    "        y_predicted=m*x+c\n",
    "        p_cost=(1/n)*sum([value**2 for value in(y-y_predicted)])\n",
    "        md=-(2/n)*sum(x*(y-y_predicted))\n",
    "        cd=-(2/n)*sum(y-y_predicted)\n",
    "        m=m-learning_rate*md\n",
    "        c=c-learning_rate*cd\n",
    "    print(m,c,p_cost)\n",
    "x=np.array([1,2,3])\n",
    "y=np.array([8,14,12])\n",
    "gradient_descent(x,y)"
   ]
  },
  {
   "cell_type": "code",
   "execution_count": 28,
   "metadata": {},
   "outputs": [
    {
     "name": "stdout",
     "output_type": "stream",
     "text": [
      "(2.0474347768316745, 7.225998137737645, 148)\n"
     ]
    },
    {
     "data": {
      "text/plain": [
       "91.33333333333333"
      ]
     },
     "execution_count": 28,
     "metadata": {},
     "output_type": "execute_result"
    }
   ],
   "source": [
    "def predicted(x,m,c):\n",
    "    return m*x+c\n",
    "def error(x,y,m,c): \n",
    "    summ=0\n",
    "    for i in range(len(x)):\n",
    "        summ = summ + (y[i]-predicted(x[i],m,c))**2\n",
    "    return summ/len(x)\n",
    "def gradient(x,y,m,c):\n",
    "    a,b=0,0\n",
    "    for j in range(len(x)):\n",
    "        a += x[j]*(predicted(x[j],m,c)-y[j])\n",
    "        b += (predicted(x[j],m,c)-y[j])\n",
    "    return (a*(2/len(x))),b*(2/len(x))\n",
    "def gradient_desc(x,y,m,c):\n",
    "    pre,post=1,0\n",
    "    a=1\n",
    "    while(pre-post)>0.0001:\n",
    "        pre=error(x,y,m,c)\n",
    "        m=m-(gradient(x,y,m,c)[0])*lr\n",
    "        c=c-(gradient(x,y,m,c)[1])*lr\n",
    "        post= error(x,y,m,c)\n",
    "        a=a+1\n",
    "    return m,c,a\n",
    "x=[1,2,3]\n",
    "y=[8,14,12]\n",
    "m=1\n",
    "lr=0.1   #learning rate\n",
    "c=0\n",
    "print(gradient_desc(x,y,m,c))\n",
    "error(x,y,m,c)"
   ]
  },
  {
   "cell_type": "code",
   "execution_count": 12,
   "metadata": {},
   "outputs": [
    {
     "name": "stdout",
     "output_type": "stream",
     "text": [
      "[21, 13, 19, 13, 19, 13]\n",
      "{21: 1, 13: 3, 19: 2}\n"
     ]
    }
   ],
   "source": [
    "import collections\n",
    "# list of elements to calculate mode\n",
    "num_list = [21, 13, 19, 13,19,13]\n",
    "\n",
    "# Print the list\n",
    "print(num_list)\n",
    "\n",
    "# calculate the frequency of each item\n",
    "data = collections.Counter(num_list)\n",
    "data = dict(data)\n",
    "\n",
    "# Print the items with frequency\n",
    "print(data)\n",
    "\n",
    "# Find the highest frequency\n",
    "max_value = max(list(data.values()))"
   ]
  },
  {
   "cell_type": "code",
   "execution_count": 30,
   "metadata": {},
   "outputs": [
    {
     "data": {
      "text/plain": [
       "2.8284271247461903"
      ]
     },
     "execution_count": 30,
     "metadata": {},
     "output_type": "execute_result"
    }
   ],
   "source": [
    "import math as m\n",
    "def euc_dis(x1,y1,x2,y2):\n",
    "    return m.sqrt(((x2-x1)**2)+((y2-y1)**2))\n",
    "x1=1\n",
    "x2=3\n",
    "y1=8\n",
    "y2=10\n",
    "euc_dis(x1,y1,x2,y2)\n"
   ]
  },
  {
   "cell_type": "code",
   "execution_count": null,
   "metadata": {},
   "outputs": [],
   "source": []
  }
 ],
 "metadata": {
  "kernelspec": {
   "display_name": "Python 3 (ipykernel)",
   "language": "python",
   "name": "python3"
  },
  "language_info": {
   "codemirror_mode": {
    "name": "ipython",
    "version": 3
   },
   "file_extension": ".py",
   "mimetype": "text/x-python",
   "name": "python",
   "nbconvert_exporter": "python",
   "pygments_lexer": "ipython3",
   "version": "3.11.7"
  }
 },
 "nbformat": 4,
 "nbformat_minor": 4
}
