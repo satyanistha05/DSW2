{
 "cells": [
  {
   "cell_type": "code",
   "execution_count": 2,
   "id": "fac0951f",
   "metadata": {},
   "outputs": [],
   "source": [
    "import numpy as np"
   ]
  },
  {
   "cell_type": "code",
   "execution_count": 3,
   "id": "29ba9f4a",
   "metadata": {},
   "outputs": [],
   "source": [
    "x=np.array([[165,75],[170,85],[180,62],[169,70],[172,72]])\n",
    "y=np.array([\"overweight\",\"overweight\",\"normal\",\"normal\",\"normal\"])"
   ]
  },
  {
   "cell_type": "code",
   "execution_count": 4,
   "id": "7969da86",
   "metadata": {},
   "outputs": [],
   "source": [
    "x_test=np.array([173,75])"
   ]
  },
  {
   "cell_type": "code",
   "execution_count": 5,
   "id": "a922a498",
   "metadata": {},
   "outputs": [],
   "source": [
    "def euc_distance(a,b):\n",
    "    d=np.sqrt(np.sum(np.square(a-b)))\n",
    "    return d\n",
    "    "
   ]
  },
  {
   "cell_type": "code",
   "execution_count": 6,
   "id": "48ea4f7b",
   "metadata": {},
   "outputs": [
    {
     "name": "stdout",
     "output_type": "stream",
     "text": [
      "[('overweight', 8.0), ('overweight', 10.44030650891055), ('normal', 14.7648230602334), ('normal', 6.4031242374328485), ('normal', 3.1622776601683795)]\n"
     ]
    }
   ],
   "source": [
    "distance=[]\n",
    "for i in range(len(x)):\n",
    "    s=(y[i],euc_distance(x[i],x_test))\n",
    "    distance.append(s)\n",
    "print(distance)"
   ]
  },
  {
   "cell_type": "code",
   "execution_count": 7,
   "id": "a622e141",
   "metadata": {},
   "outputs": [
    {
     "data": {
      "text/plain": [
       "[('normal', 3.1622776601683795),\n",
       " ('normal', 6.4031242374328485),\n",
       " ('overweight', 8.0),\n",
       " ('overweight', 10.44030650891055),\n",
       " ('normal', 14.7648230602334)]"
      ]
     },
     "execution_count": 7,
     "metadata": {},
     "output_type": "execute_result"
    }
   ],
   "source": [
    "distance.sort(key=lambda x:x[1] )\n",
    "distance"
   ]
  },
  {
   "cell_type": "code",
   "execution_count": 12,
   "id": "d742ded7",
   "metadata": {},
   "outputs": [
    {
     "data": {
      "text/plain": [
       "[('normal', 3.1622776601683795),\n",
       " ('normal', 6.4031242374328485),\n",
       " ('overweight', 8.0)]"
      ]
     },
     "execution_count": 12,
     "metadata": {},
     "output_type": "execute_result"
    }
   ],
   "source": [
    "k=3\n",
    "d=distance[:k]\n",
    "d"
   ]
  },
  {
   "cell_type": "code",
   "execution_count": 16,
   "id": "d10644c8",
   "metadata": {},
   "outputs": [],
   "source": [
    "from collections import Counter\n",
    "# category_counts=Counter(x[0] for x in d)\n",
    "# msc=category_counts.most_common(1)\n",
    "# msc"
   ]
  },
  {
   "cell_type": "code",
   "execution_count": 17,
   "id": "2b5ff6f4",
   "metadata": {},
   "outputs": [],
   "source": [
    "#combined code"
   ]
  },
  {
   "cell_type": "code",
   "execution_count": 18,
   "id": "921e1887",
   "metadata": {},
   "outputs": [
    {
     "data": {
      "text/plain": [
       "'normal'"
      ]
     },
     "execution_count": 18,
     "metadata": {},
     "output_type": "execute_result"
    }
   ],
   "source": [
    "def mostcommon(l,k):\n",
    "    distance.sort(key=lambda x:x[1] )\n",
    "    d=l[:k]\n",
    "    category_counts=Counter([x[0] for x in d])\n",
    "    msc=category_counts.most_common(1)\n",
    "    return msc[0][0]\n",
    "mostcommon(d,3)"
   ]
  },
  {
   "cell_type": "markdown",
   "id": "b00869d0",
   "metadata": {},
   "source": [
    "### KNN Classification code:"
   ]
  },
  {
   "cell_type": "code",
   "execution_count": 19,
   "id": "69d8b239",
   "metadata": {},
   "outputs": [
    {
     "data": {
      "text/plain": [
       "array(['a', 'a'], dtype='<U1')"
      ]
     },
     "execution_count": 19,
     "metadata": {},
     "output_type": "execute_result"
    }
   ],
   "source": [
    "def knn_classifier(x_train,y_train,x_test,k):\n",
    "    y_predict=[]\n",
    "    for x in x_test:\n",
    "        l=[]\n",
    "        for i in range(len(x_train)):\n",
    "            l.append((y_train[i],euc_distance(x,x_train[i])))\n",
    "        y=mostcommon(l,k)\n",
    "        y_predict.append(y)\n",
    "    return np.array(y_predict)\n",
    "x_train=np.array([[1,2],[3,4],[5,6],[7,8],[9,10]])\n",
    "y_train=np.array(['a','a','a','b','b'])\n",
    "y_test=np.array(['a','b'])\n",
    "x_test=np.array([[1,3],[8,9]])\n",
    "knn_classifier(x_train,y_train,x_test,5)"
   ]
  },
  {
   "cell_type": "code",
   "execution_count": 20,
   "id": "eb228fe9",
   "metadata": {},
   "outputs": [],
   "source": [
    "from ucimlrepo import fetch_ucirepo\n",
    "iris=fetch_ucirepo(id=53)"
   ]
  },
  {
   "cell_type": "code",
   "execution_count": 24,
   "id": "8a2c2612-32d9-4da3-9436-161af65f945e",
   "metadata": {},
   "outputs": [],
   "source": [
    "x=iris.data.features.values\n",
    "y=iris.data.targets.values"
   ]
  },
  {
   "cell_type": "code",
   "execution_count": 25,
   "id": "acbd4e2c-3e3a-4add-a672-c7ba706f58a1",
   "metadata": {},
   "outputs": [
    {
     "name": "stdout",
     "output_type": "stream",
     "text": [
      "first five elements of y:  [['Iris-setosa']\n",
      " ['Iris-setosa']\n",
      " ['Iris-setosa']\n",
      " ['Iris-setosa']\n",
      " ['Iris-setosa']]\n",
      "first five elements of x:  [[5.1 3.5 1.4 0.2]\n",
      " [4.9 3.  1.4 0.2]\n",
      " [4.7 3.2 1.3 0.2]\n",
      " [4.6 3.1 1.5 0.2]\n",
      " [5.  3.6 1.4 0.2]]\n"
     ]
    }
   ],
   "source": [
    "print(\"first five elements of y: \",y[:5])\n",
    "print(\"first five elements of x: \",x[:5])"
   ]
  },
  {
   "cell_type": "code",
   "execution_count": 26,
   "id": "89e30e83-c862-4a0c-919b-b6130fcf34d3",
   "metadata": {},
   "outputs": [],
   "source": [
    "from sklearn.preprocessing import LabelEncoder\n",
    "le=LabelEncoder()\n",
    "y=le.fit_transform(y.ravel()) #ravel converts columns to rows"
   ]
  },
  {
   "cell_type": "code",
   "execution_count": 27,
   "id": "971d2417-669c-457c-8b5c-251508a329c9",
   "metadata": {},
   "outputs": [
    {
     "name": "stdout",
     "output_type": "stream",
     "text": [
      "[0 0 0 0 0 0 0 0 0 0 0 0 0 0 0 0 0 0 0 0 0 0 0 0 0 0 0 0 0 0 0 0 0 0 0 0 0\n",
      " 0 0 0 0 0 0 0 0 0 0 0 0 0 1 1 1 1 1 1 1 1 1 1 1 1 1 1 1 1 1 1 1 1 1 1 1 1\n",
      " 1 1 1 1 1 1 1 1 1 1 1 1 1 1 1 1 1 1 1 1 1 1 1 1 1 1 2 2 2 2 2 2 2 2 2 2 2\n",
      " 2 2 2 2 2 2 2 2 2 2 2 2 2 2 2 2 2 2 2 2 2 2 2 2 2 2 2 2 2 2 2 2 2 2 2 2 2\n",
      " 2 2]\n"
     ]
    }
   ],
   "source": [
    "print(y)"
   ]
  },
  {
   "cell_type": "code",
   "execution_count": 28,
   "id": "fa69d580-d478-4204-923b-f30e06c4d5c3",
   "metadata": {},
   "outputs": [],
   "source": [
    "from sklearn.model_selection import train_test_split"
   ]
  },
  {
   "cell_type": "code",
   "execution_count": 29,
   "id": "9d9847cc-14e8-403c-b719-3ecde8555d50",
   "metadata": {},
   "outputs": [],
   "source": [
    "x_train,x_test,y_train,y_test=train_test_split(x,y,test_size=0.2,random_state=42)"
   ]
  },
  {
   "cell_type": "code",
   "execution_count": 30,
   "id": "ef1340ce-aca0-4472-a98b-9bf77761d449",
   "metadata": {},
   "outputs": [
    {
     "name": "stdout",
     "output_type": "stream",
     "text": [
      "(120, 4) (120,)\n",
      "(30, 4)\n"
     ]
    }
   ],
   "source": [
    "m_train,n=x_train.shape\n",
    "m_test, n=x_test.shape\n",
    "k=3\n",
    "print(x_train.shape,y_train.shape)\n",
    "print(x_test.shape)"
   ]
  },
  {
   "cell_type": "code",
   "execution_count": 31,
   "id": "d76b8d5f-36e8-495c-911b-643f4b47914d",
   "metadata": {},
   "outputs": [
    {
     "data": {
      "text/plain": [
       "array([0, 0, 0, 0, 0, 0, 0, 0, 0, 0, 0, 0, 0, 0, 0, 0, 0, 0, 0, 0, 0, 0,\n",
       "       0, 0, 0, 0, 0, 0, 0, 0])"
      ]
     },
     "execution_count": 31,
     "metadata": {},
     "output_type": "execute_result"
    }
   ],
   "source": [
    "y_predict=knn_classifier(x_train,y_train,x_test,k=3)\n",
    "y_predict"
   ]
  },
  {
   "cell_type": "code",
   "execution_count": 32,
   "id": "261b4aa6-5821-4617-b70c-970a7bbe2eb9",
   "metadata": {},
   "outputs": [],
   "source": [
    "from sklearn.metrics import accuracy_score,classification_report,confusion_matrix"
   ]
  },
  {
   "cell_type": "code",
   "execution_count": 33,
   "id": "40a394fe-ec70-4e0b-8f20-e10008254bd0",
   "metadata": {},
   "outputs": [
    {
     "name": "stdout",
     "output_type": "stream",
     "text": [
      "33.33333333333333\n"
     ]
    }
   ],
   "source": [
    "accuracy=accuracy_score(y_test,y_predict)\n",
    "print(accuracy*100)"
   ]
  },
  {
   "cell_type": "code",
   "execution_count": 34,
   "id": "a78dac62-5a09-4121-8f74-cae836d8c9ff",
   "metadata": {},
   "outputs": [
    {
     "name": "stdout",
     "output_type": "stream",
     "text": [
      "              precision    recall  f1-score   support\n",
      "\n",
      "           0       0.33      1.00      0.50        10\n",
      "           1       0.00      0.00      0.00         9\n",
      "           2       0.00      0.00      0.00        11\n",
      "\n",
      "    accuracy                           0.33        30\n",
      "   macro avg       0.11      0.33      0.17        30\n",
      "weighted avg       0.11      0.33      0.17        30\n",
      "\n"
     ]
    },
    {
     "name": "stderr",
     "output_type": "stream",
     "text": [
      "D:\\ANACONDA\\Lib\\site-packages\\sklearn\\metrics\\_classification.py:1344: UndefinedMetricWarning: Precision and F-score are ill-defined and being set to 0.0 in labels with no predicted samples. Use `zero_division` parameter to control this behavior.\n",
      "  _warn_prf(average, modifier, msg_start, len(result))\n",
      "D:\\ANACONDA\\Lib\\site-packages\\sklearn\\metrics\\_classification.py:1344: UndefinedMetricWarning: Precision and F-score are ill-defined and being set to 0.0 in labels with no predicted samples. Use `zero_division` parameter to control this behavior.\n",
      "  _warn_prf(average, modifier, msg_start, len(result))\n",
      "D:\\ANACONDA\\Lib\\site-packages\\sklearn\\metrics\\_classification.py:1344: UndefinedMetricWarning: Precision and F-score are ill-defined and being set to 0.0 in labels with no predicted samples. Use `zero_division` parameter to control this behavior.\n",
      "  _warn_prf(average, modifier, msg_start, len(result))\n"
     ]
    }
   ],
   "source": [
    "print(classification_report(y_test,y_predict))"
   ]
  },
  {
   "cell_type": "code",
   "execution_count": 35,
   "id": "e7607d26-0974-46e0-8a2e-09af29d58ece",
   "metadata": {},
   "outputs": [
    {
     "name": "stdout",
     "output_type": "stream",
     "text": [
      "[[10  0  0]\n",
      " [ 9  0  0]\n",
      " [11  0  0]]\n"
     ]
    }
   ],
   "source": [
    "print(confusion_matrix(y_test,y_predict))"
   ]
  },
  {
   "cell_type": "code",
   "execution_count": 36,
   "id": "0a2febdc-b24a-4f8f-817f-8996a31b129e",
   "metadata": {},
   "outputs": [
    {
     "name": "stdout",
     "output_type": "stream",
     "text": [
      "[1 0 2 1 1 0 1 2 1 1 2 0 0 0 0 1 2 1 1 2 0 2 0 2 2 2 2 2 0 0]\n"
     ]
    }
   ],
   "source": [
    "from sklearn.neighbors import KNeighborsClassifier\n",
    "model=KNeighborsClassifier(n_neighbors=3)\n",
    "model.fit(x_train,y_train)\n",
    "y_pred=model.predict(x_test)\n",
    "print(y_pred)"
   ]
  },
  {
   "cell_type": "code",
   "execution_count": 37,
   "id": "746ab873-3cd9-42b9-89fd-0242bf382aa6",
   "metadata": {},
   "outputs": [
    {
     "data": {
      "text/plain": [
       "Text(0.5, 1.0, 'confusion Matrix')"
      ]
     },
     "execution_count": 37,
     "metadata": {},
     "output_type": "execute_result"
    },
    {
     "data": {
      "image/png": "[encoded data removed]",
      "text/plain": [
       "<Figure size 640x480 with 2 Axes>"
      ]
     },
     "metadata": {},
     "output_type": "display_data"
    }
   ],
   "source": [
    "from sklearn. metrics import f1_score, precision_score, recall_score\n",
    "import matplotlib. pyplot as plt\n",
    "import seaborn as sns\n",
    "cm=confusion_matrix(y_test,y_predict)\n",
    "sns.heatmap(cm,annot=True ,fmt='g',cmap='Blues')\n",
    "plt.ylabel('Actual',fontsize=13)\n",
    "plt.xlabel('Predicted',fontsize=13)\n",
    "plt.title(\"confusion Matrix\",fontsize=17)"
   ]
  }
 ],
 "metadata": {
  "kernelspec": {
   "display_name": "Python 3 (ipykernel)",
   "language": "python",
   "name": "python3"
  },
  "language_info": {
   "codemirror_mode": {
    "name": "ipython",
    "version": 3
   },
   "file_extension": ".py",
   "mimetype": "text/x-python",
   "name": "python",
   "nbconvert_exporter": "python",
   "pygments_lexer": "ipython3",
   "version": "3.11.7"
  }
 },
 "nbformat": 4,
 "nbformat_minor": 5
}
