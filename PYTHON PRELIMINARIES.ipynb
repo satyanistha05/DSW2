{
 "cells": [
  {
   "cell_type": "code",
   "execution_count": 3,
   "id": "d1436394-6f8e-42ea-b889-1731f2555ff9",
   "metadata": {},
   "outputs": [],
   "source": [
    "from collections import defaultdict"
   ]
  },
  {
   "cell_type": "code",
   "execution_count": 4,
   "id": "176352ce-cbe9-4eb4-8690-f0969bdbca4a",
   "metadata": {},
   "outputs": [
    {
     "name": "stdout",
     "output_type": "stream",
     "text": [
      "Soa\n",
      "iter\n",
      "Not Present\n"
     ]
    }
   ],
   "source": [
    "def def_value():\n",
    "    return \"Not Present\"\n",
    "d=defaultdict(def_value)\n",
    "d[1]=\"Soa\"\n",
    "d[2]=\"iter\"\n",
    "print(d[1])\n",
    "print(d[2])\n",
    "print(d[3])\n"
   ]
  },
  {
   "cell_type": "code",
   "execution_count": 7,
   "id": "345acc93-726a-4783-a229-9c65fbd0347a",
   "metadata": {},
   "outputs": [
    {
     "name": "stdout",
     "output_type": "stream",
     "text": [
      "soa\n",
      "iter\n",
      "0\n"
     ]
    }
   ],
   "source": [
    "dd_int=defaultdict(int)\n",
    "dd_int[1]=\"soa\"\n",
    "dd_int[2]=\"iter\"\n",
    "print(dd_int[1])\n",
    "print(dd_int[2])\n",
    "print(dd_int[3])"
   ]
  },
  {
   "cell_type": "code",
   "execution_count": 8,
   "id": "871e9af9-725c-4197-b155-92ddf27d55d0",
   "metadata": {},
   "outputs": [
    {
     "name": "stdout",
     "output_type": "stream",
     "text": [
      "soa\n",
      "iter\n",
      "[]\n"
     ]
    }
   ],
   "source": [
    "dd_list=defaultdict(list)\n",
    "dd_list[1]=\"soa\"\n",
    "dd_list[2]=\"iter\"\n",
    "print(dd_list[1])\n",
    "print(dd_list[2])\n",
    "print(dd_list[3])"
   ]
  },
  {
   "cell_type": "code",
   "execution_count": 9,
   "id": "764f351e-a144-46af-98cb-ebec913c0184",
   "metadata": {},
   "outputs": [
    {
     "name": "stdout",
     "output_type": "stream",
     "text": [
      "soa\n",
      "iter\n",
      "\n"
     ]
    }
   ],
   "source": [
    "dd_str=defaultdict(str)\n",
    "dd_str[1]=\"soa\"\n",
    "dd_str[2]=\"iter\"\n",
    "print(dd_str[1])\n",
    "print(dd_str[2])\n",
    "print(dd_str[3])"
   ]
  },
  {
   "cell_type": "code",
   "execution_count": 10,
   "id": "53e47313-d740-4d23-923f-68aecaa54a9b",
   "metadata": {},
   "outputs": [
    {
     "name": "stdout",
     "output_type": "stream",
     "text": [
      "soa\n",
      "iter\n",
      "()\n"
     ]
    }
   ],
   "source": [
    "dd_tuple=defaultdict(tuple)\n",
    "dd_tuple[1]=\"soa\"\n",
    "dd_tuple[2]=\"iter\"\n",
    "print(dd_tuple[1])\n",
    "print(dd_tuple[2])\n",
    "print(dd_tuple[3])"
   ]
  },
  {
   "cell_type": "code",
   "execution_count": 12,
   "id": "cb65035b-d384-4184-86ea-67f433e7896a",
   "metadata": {},
   "outputs": [],
   "source": [
    "from collections import Counter"
   ]
  },
  {
   "cell_type": "code",
   "execution_count": 13,
   "id": "fae6e345-3327-4f96-990f-465ea40cc364",
   "metadata": {},
   "outputs": [
    {
     "data": {
      "text/plain": [
       "Counter({0: 2, 1: 2, 2: 1})"
      ]
     },
     "execution_count": 13,
     "metadata": {},
     "output_type": "execute_result"
    }
   ],
   "source": [
    "c=Counter([0,1,2,1,0])\n",
    "c"
   ]
  },
  {
   "cell_type": "code",
   "execution_count": 14,
   "id": "28cf9462-5f67-4622-8ac9-a12354a0137d",
   "metadata": {},
   "outputs": [
    {
     "data": {
      "text/plain": [
       "Counter({'i': 4,\n",
       "         's': 3,\n",
       "         ' ': 3,\n",
       "         'T': 1,\n",
       "         'h': 1,\n",
       "         'S': 1,\n",
       "         'O': 1,\n",
       "         'A': 1,\n",
       "         'U': 1,\n",
       "         'n': 1,\n",
       "         'v': 1,\n",
       "         'e': 1,\n",
       "         'r': 1,\n",
       "         't': 1,\n",
       "         'y': 1})"
      ]
     },
     "execution_count": 14,
     "metadata": {},
     "output_type": "execute_result"
    }
   ],
   "source": [
    "word_counts=Counter(\"This is SOA University\")\n",
    "word_counts"
   ]
  },
  {
   "cell_type": "code",
   "execution_count": 15,
   "id": "6754ec8d-98de-4fda-807c-7ab9988863c1",
   "metadata": {},
   "outputs": [
    {
     "ename": "AssertionError",
     "evalue": "",
     "output_type": "error",
     "traceback": [
      "\u001b[1;31m---------------------------------------------------------------------------\u001b[0m",
      "\u001b[1;31mAssertionError\u001b[0m                            Traceback (most recent call last)",
      "Cell \u001b[1;32mIn[15], line 2\u001b[0m\n\u001b[0;32m      1\u001b[0m \u001b[38;5;28;01massert\u001b[39;00m \u001b[38;5;241m1\u001b[39m\u001b[38;5;241m+\u001b[39m\u001b[38;5;241m1\u001b[39m\u001b[38;5;241m==\u001b[39m\u001b[38;5;241m2\u001b[39m\n\u001b[1;32m----> 2\u001b[0m \u001b[38;5;28;01massert\u001b[39;00m \u001b[38;5;241m1\u001b[39m\u001b[38;5;241m+\u001b[39m\u001b[38;5;241m2\u001b[39m\u001b[38;5;241m==\u001b[39m\u001b[38;5;241m2\u001b[39m\n",
      "\u001b[1;31mAssertionError\u001b[0m: "
     ]
    }
   ],
   "source": [
    "assert 1+1==2\n",
    "assert 1+2==2"
   ]
  },
  {
   "cell_type": "code",
   "execution_count": 1,
   "id": "e508951f-4829-4231-a0f0-7df6da209cf5",
   "metadata": {},
   "outputs": [
    {
     "data": {
      "text/plain": [
       "<BarContainer object of 3 artists>"
      ]
     },
     "execution_count": 1,
     "metadata": {},
     "output_type": "execute_result"
    },
    {
     "data": {
      "image/png": "[encoded data removed]",
      "text/plain": [
       "<Figure size 640x480 with 1 Axes>"
      ]
     },
     "metadata": {},
     "output_type": "display_data"
    }
   ],
   "source": [
    "import matplotlib.pyplot as plt\n",
    "x=[1,2,3]\n",
    "y=[1,2,3]\n",
    "plt.bar(x,y)"
   ]
  },
  {
   "cell_type": "code",
   "execution_count": null,
   "id": "d8e1778d-0367-41f9-954d-6aaa19515899",
   "metadata": {},
   "outputs": [],
   "source": []
  }
 ],
 "metadata": {
  "kernelspec": {
   "display_name": "Python 3 (ipykernel)",
   "language": "python",
   "name": "python3"
  },
  "language_info": {
   "codemirror_mode": {
    "name": "ipython",
    "version": 3
   },
   "file_extension": ".py",
   "mimetype": "text/x-python",
   "name": "python",
   "nbconvert_exporter": "python",
   "pygments_lexer": "ipython3",
   "version": "3.11.7"
  }
 },
 "nbformat": 4,
 "nbformat_minor": 5
}
