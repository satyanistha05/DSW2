{
 "cells": [
  {
   "cell_type": "code",
   "execution_count": 28,
   "id": "babcdc12-9393-48ec-aaff-c5268972effd",
   "metadata": {},
   "outputs": [
    {
     "name": "stdout",
     "output_type": "stream",
     "text": [
      "[{'ID': 0, 'Name': 'Hero'}, {'ID': 1, 'Name': 'Dunn'}, {'ID': 2, 'Name': 'Sue'}, {'ID': 3, 'Name': 'Chi'}, {'ID': 4, 'Name': 'Thor'}, {'ID': 5, 'Name': 'Clive'}, {'ID': 6, 'Name': 'Hicks'}, {'ID': 7, 'Name': 'Devin'}, {'ID': 8, 'Name': 'Kate'}, {'ID': 9, 'Name': 'Klein'}]\n"
     ]
    }
   ],
   "source": [
    "from collections import defaultdict\n",
    "user=[{\"ID\":0,\"Name\":\"Hero\"},\n",
    "      {\"ID\":1,\"Name\":\"Dunn\"},\n",
    "      {\"ID\":2,\"Name\":\"Sue\"},\n",
    "      {\"ID\":3,\"Name\":\"Chi\"},\n",
    "      {\"ID\":4,\"Name\":\"Thor\"},\n",
    "      {\"ID\":5,\"Name\":\"Clive\"},\n",
    "      {\"ID\":6,\"Name\":\"Hicks\"},\n",
    "      {\"ID\":7,\"Name\":\"Devin\"},\n",
    "      {\"ID\":8,\"Name\":\"Kate\"},\n",
    "      {\"ID\":9,\"Name\":\"Klein\"}]\n",
    "print(user)"
   ]
  },
  {
   "cell_type": "code",
   "execution_count": 29,
   "id": "1fb303bd-81a0-4085-b868-e9c493172b4a",
   "metadata": {},
   "outputs": [
    {
     "name": "stdout",
     "output_type": "stream",
     "text": [
      "[(0, 1), (0, 2), (1, 2), (1, 3), (2, 3), (3, 4), (4, 5), (5, 6), (5, 7), (6, 8), (7, 8), (8, 9)]\n"
     ]
    }
   ],
   "source": [
    "friendship_pairs=[(0,1),(0,2),(1,2),(1,3),(2,3),(3,4),(4,5),(5,6),(5,7),(6,8),(7,8),(8,9)]\n",
    "print(friendship_pairs)"
   ]
  },
  {
   "cell_type": "code",
   "execution_count": 30,
   "id": "2ffed4b2-43e8-40d9-aeb8-24744669e734",
   "metadata": {},
   "outputs": [
    {
     "name": "stdout",
     "output_type": "stream",
     "text": [
      "defaultdict(<class 'list'>, {0: [1, 2], 1: [0, 2, 3], 2: [0, 1, 3], 3: [1, 2, 4], 4: [3, 5], 5: [4, 6, 7], 6: [5, 8], 7: [5, 8], 8: [6, 7, 9], 9: [8]})\n"
     ]
    }
   ],
   "source": [
    "friendships=defaultdict(list)\n",
    "for i,j in friendship_pairs:\n",
    "    friendships[i].append(j)\n",
    "    friendships[j].append(i)\n",
    "print(friendships)"
   ]
  },
  {
   "cell_type": "code",
   "execution_count": 47,
   "id": "dab75ecd-6909-40ee-abd0-90a4dcd1c70d",
   "metadata": {},
   "outputs": [
    {
     "name": "stdout",
     "output_type": "stream",
     "text": [
      "total_connection:  24\n",
      "average_connection:  2.4\n"
     ]
    }
   ],
   "source": [
    "def number_of_friends(user):\n",
    "    user_id=user[\"ID\"]\n",
    "    friend_ids=friendships[user_id]\n",
    "    return len(friend_ids)\n",
    "total_connection=sum(number_of_friends(user) for user in user)\n",
    "print('total_connection: ',total_connection)\n",
    "num_users=len(user)\n",
    "avg_connection=total_connection/num_users\n",
    "print(\"average_connection: \",avg_connection)"
   ]
  },
  {
   "cell_type": "code",
   "execution_count": 64,
   "id": "2a7e26d3-db26-44dc-94d4-5388a1613375",
   "metadata": {},
   "outputs": [
    {
     "name": "stdout",
     "output_type": "stream",
     "text": [
      "[(1, 3), (2, 3), (3, 3), (5, 3), (8, 3), (0, 2), (4, 2), (6, 2), (7, 2), (9, 1)]\n"
     ]
    }
   ],
   "source": [
    "num_friends_id=[(user[\"ID\"],number_of_friends(user))for user in user]\n",
    "num_friends_id.sort(key= lambda id_and_friends:id_and_friends[1],reverse=True)\n",
    "print(num_friends_id)        "
   ]
  }
 ],
 "metadata": {
  "kernelspec": {
   "display_name": "Python 3 (ipykernel)",
   "language": "python",
   "name": "python3"
  },
  "language_info": {
   "codemirror_mode": {
    "name": "ipython",
    "version": 3
   },
   "file_extension": ".py",
   "mimetype": "text/x-python",
   "name": "python",
   "nbconvert_exporter": "python",
   "pygments_lexer": "ipython3",
   "version": "3.11.7"
  }
 },
 "nbformat": 4,
 "nbformat_minor": 5
}
